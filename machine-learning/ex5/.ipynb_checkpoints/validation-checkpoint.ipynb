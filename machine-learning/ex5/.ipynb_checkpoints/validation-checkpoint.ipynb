{
 "cells": [
  {
   "cell_type": "code",
   "execution_count": 3,
   "metadata": {},
   "outputs": [],
   "source": [
    "%matplotlib inline\n",
    "import numpy as np\n",
    "import matplotlib.pyplot as plt\n",
    "import scipy.io #Used to load the OCTAVE *.mat files\n",
    "import scipy.optimize #fmin_cg to train the linear regression\n",
    "\n",
    "import warnings\n",
    "warnings.filterwarnings('ignore')"
   ]
  },
  {
   "cell_type": "code",
   "execution_count": 6,
   "metadata": {},
   "outputs": [],
   "source": [
    "datafile = 'ex5data1.mat'\n",
    "mat = scipy.io.loadmat( datafile )\n",
    "\n",
    "#Training set\n",
    "X, y = mat['X'], mat['y']\n",
    "#Cross validation set\n",
    "Xval, yval = mat['Xval'], mat['yval']\n",
    "#Test set\n",
    "Xtest, ytest = mat['Xtest'], mat['ytest']\n",
    "\n",
    "#Insert a column of 1's to all of the X's, as usual\n",
    "X =     np.insert(X, 0, 1, axis=1)\n",
    "Xval =  np.insert(Xval, 0, 1, axis=1)\n",
    "Xtest = np.insert(Xtest, 0, 1,axis=1)"
   ]
  },
  {
   "cell_type": "code",
   "execution_count": 9,
   "metadata": {},
   "outputs": [
    {
     "data": {
      "image/png": "[encoded data removed]",
      "text/plain": [
       "<Figure size 576x360 with 1 Axes>"
      ]
     },
     "metadata": {},
     "output_type": "display_data"
    }
   ],
   "source": [
    "def plotData():\n",
    "    plt.figure(figsize=(8,5))\n",
    "    plt.ylabel('Water flowing out of the dam (y)')\n",
    "    plt.xlabel('Change in water level (x)')\n",
    "    plt.plot(X[:,1],y,'rx')\n",
    "    plt.grid(True)\n",
    "    \n",
    "plotData()"
   ]
  },
  {
   "cell_type": "code",
   "execution_count": 12,
   "metadata": {},
   "outputs": [],
   "source": [
    "def h(theta,X):\n",
    "    return np.dot(X,theta)\n",
    "\n",
    "def computeCost(mytheta, myX, myy, mylambda=0.):\n",
    "    m = myX.shape[0]\n",
    "    myh = h(mytheta, myX).reshape((m,1))\n",
    "    \n",
    "    mycost = float((1./(2*m)) * (myh-myy).T.dot(myh-myy))\n",
    "    regterm = (float(mylambda)/(2*m)) * float(mytheta[1:].T.dot(mytheta[1:]))\n",
    "    return mycost + regterm"
   ]
  },
  {
   "cell_type": "code",
   "execution_count": 13,
   "metadata": {},
   "outputs": [
    {
     "name": "stdout",
     "output_type": "stream",
     "text": [
      "303.9931922202643\n"
     ]
    }
   ],
   "source": [
    "mytheta = np.array([[1.],[1.]])\n",
    "print(computeCost(mytheta,X,y,mylambda=1.))"
   ]
  },
  {
   "cell_type": "code",
   "execution_count": 14,
   "metadata": {},
   "outputs": [],
   "source": [
    "\n",
    "def computeGradient(mytheta, myX, myy, mylambda=0.):\n",
    "    mytheta = mytheta.reshape((mytheta.shape[0]),1)\n",
    "    m = myX.shape[0]\n",
    "    \n",
    "    myh = h(mytheta, myX).reshape((m,1))\n",
    "    grad = (1./float(m)) * myX.T.dot(h(mytheta,myX) - myy)\n",
    "    \n",
    "    regterm = (float(mylambda)/m)*mytheta\n",
    "    regterm[0] = 0 # skip first term\n",
    "    regterm.reshape((grad.shape[0],1))\n",
    "    \n",
    "    return grad + regterm \n",
    "    \n",
    "def computeGradientFlattened(mytheta, myX, myy, mylambda=0.):\n",
    "    return computeGradient(mytheta ,myX, myy, mylambda=0.).flatten()"
   ]
  },
  {
   "cell_type": "code",
   "execution_count": 15,
   "metadata": {},
   "outputs": [
    {
     "name": "stdout",
     "output_type": "stream",
     "text": [
      "[[-15.30301567]\n",
      " [598.25074417]]\n"
     ]
    }
   ],
   "source": [
    "mytheta = np.array([[1.],[1.]])\n",
    "print(computeGradient(mytheta, X, y, 1.))"
   ]
  },
  {
   "cell_type": "code",
   "execution_count": 16,
   "metadata": {},
   "outputs": [],
   "source": [
    "def optimizeTheta(myTheta_initial, myX, myy, mylambda=0.,print_output=True):\n",
    "    fit_theta = scipy.optimize.fmin_cg(\n",
    "        computeCost,\n",
    "        x0=myTheta_initial,\n",
    "        fprime=computeGradientFlattened, \n",
    "        args=(myX, myy, mylambda),\n",
    "        disp=print_output,\n",
    "        epsilon=1.49e-12,\n",
    "        maxiter=1000\n",
    "    )\n",
    "    \n",
    "    fit_theta = fit_theta.reshape((myTheta_initial.shape[0],1))\n",
    "    return fit_theta"
   ]
  },
  {
   "cell_type": "code",
   "execution_count": 17,
   "metadata": {},
   "outputs": [
    {
     "name": "stdout",
     "output_type": "stream",
     "text": [
      "Optimization terminated successfully.\n",
      "         Current function value: 22.373906\n",
      "         Iterations: 18\n",
      "         Function evaluations: 28\n",
      "         Gradient evaluations: 28\n"
     ]
    }
   ],
   "source": [
    "mytheta = np.array([[1.],[1.]])\n",
    "fit_theta = optimizeTheta(mytheta,X,y,0.)"
   ]
  },
  {
   "cell_type": "code",
   "execution_count": 18,
   "metadata": {},
   "outputs": [
    {
     "data": {
      "text/plain": [
       "[<matplotlib.lines.Line2D at 0x23f3fcec320>]"
      ]
     },
     "execution_count": 18,
     "metadata": {},
     "output_type": "execute_result"
    },
    {
     "data": {
      "image/png": "[encoded data removed]",
      "text/plain": [
       "<Figure size 576x360 with 1 Axes>"
      ]
     },
     "metadata": {},
     "output_type": "display_data"
    }
   ],
   "source": [
    "plotData()\n",
    "plt.plot(X[:,1], h(fit_theta,X).flatten())"
   ]
  },
  {
   "cell_type": "code",
   "execution_count": 19,
   "metadata": {},
   "outputs": [],
   "source": [
    "def plotLearningCurve():\n",
    "    \"\"\"\n",
    "    Loop over first training point, then first 2 training points, then first 3 ...\n",
    "    and use each training-set-subset to find trained parameters.\n",
    "    With those parameters, compute the cost on that subset (Jtrain)\n",
    "    remembering that for Jtrain, lambda = 0 (even if you are using regularization).\n",
    "    Then, use the trained parameters to compute Jval on the entire validation set\n",
    "    again forcing lambda = 0 even if using regularization.\n",
    "    Store the computed errors, error_train and error_val and plot them.\n",
    "    \"\"\"\n",
    "    initial_theta = np.array([[1.],[1.]])\n",
    "    mym, error_train, error_val = [], [], []\n",
    "    \n",
    "    for x in range(1,13,1):\n",
    "        train_subset = X[:x,:]\n",
    "        y_subset = y[:x]\n",
    "        mym.append(y_subset.shape[0])\n",
    "        \n",
    "        fit_theta = optimizeTheta(initial_theta,train_subset,y_subset,mylambda=0.,print_output=False)\n",
    "        error_train.append( computeCost(fit_theta,train_subset,y_subset,mylambda=0.) )\n",
    "        error_val.append( computeCost(fit_theta,Xval,yval,mylambda=0.) )\n",
    "        \n",
    "    plt.figure(figsize=(8,5))\n",
    "    plt.plot(mym,error_train,label='Train')\n",
    "    plt.plot(mym,error_val,label='Cross Validation')\n",
    "    plt.legend()\n",
    "    plt.title('Learning curve for linear regression')\n",
    "    plt.xlabel('Number of training examples')\n",
    "    plt.ylabel('Error')\n",
    "    plt.grid(True)"
   ]
  },
  {
   "cell_type": "code",
   "execution_count": 20,
   "metadata": {},
   "outputs": [
    {
     "data": {
      "image/png": "[encoded data removed]",
      "text/plain": [
       "<Figure size 576x360 with 1 Axes>"
      ]
     },
     "metadata": {},
     "output_type": "display_data"
    }
   ],
   "source": [
    "plotLearningCurve()"
   ]
  },
  {
   "cell_type": "code",
   "execution_count": 22,
   "metadata": {},
   "outputs": [],
   "source": [
    "def genPolyFeatures(myX, p):\n",
    "    \"\"\"\n",
    "    Function takes in the X matrix (with bias term already included as the first column)\n",
    "    and returns an X matrix with \"p\" additional columns.\n",
    "    The first additional column will be the 2nd column (first non-bias column) squared,\n",
    "    the next additional column will be the 2nd column cubed, etc.\n",
    "    \"\"\"\n",
    "    newX = myX.copy()\n",
    "    for i in range(p):\n",
    "        dim = i + 2\n",
    "        newX = np.insert(newX, newX.shape[1], np.power(newX[:,1],dim), axis=1)\n",
    "    return newX\n",
    "\n",
    "def featureNormalize(myX):\n",
    "    \"\"\"\n",
    "    Takes as input the X array (with bias \"1\" first column), does\n",
    "    feature normalizing on the columns (subtract mean, divide by standard deviation).\n",
    "    Returns the feature-normalized X, and feature means and stds in a list\n",
    "    Note this is different than my implementation in assignment 1...\n",
    "    I didn't realize you should subtract the means, THEN compute std of the\n",
    "    mean-subtracted columns.\n",
    "    Doesn't make a huge difference, I've found\n",
    "    \"\"\"\n",
    "   \n",
    "    Xnorm = myX.copy()\n",
    "    stored_feature_means = np.mean(Xnorm,axis=0) #column-by-column\n",
    "    \n",
    "    Xnorm[:,1:] = Xnorm[:,1:] - stored_feature_means[1:]\n",
    "    stored_feature_stds = np.std(Xnorm,axis=0,ddof=1)\n",
    "    Xnorm[:,1:] = Xnorm[:,1:] / stored_feature_stds[1:]\n",
    "    \n",
    "    return Xnorm, stored_feature_means, stored_feature_stds"
   ]
  },
  {
   "cell_type": "code",
   "execution_count": 23,
   "metadata": {},
   "outputs": [
    {
     "name": "stdout",
     "output_type": "stream",
     "text": [
      "Optimization terminated successfully.\n",
      "         Current function value: 0.198053\n",
      "         Iterations: 101\n",
      "         Function evaluations: 192\n",
      "         Gradient evaluations: 192\n"
     ]
    }
   ],
   "source": [
    "global_d = 5\n",
    "newX = genPolyFeatures(X,global_d)\n",
    "newX_norm, stored_means, stored_stds = featureNormalize(newX)\n",
    "#Find fit parameters starting with 1's as the initial guess\n",
    "mytheta = np.ones((newX_norm.shape[1],1))\n",
    "fit_theta = optimizeTheta(mytheta,newX_norm,y,0.)"
   ]
  },
  {
   "cell_type": "code",
   "execution_count": 24,
   "metadata": {},
   "outputs": [
    {
     "data": {
      "image/png": "[encoded data removed]",
      "text/plain": [
       "<Figure size 576x360 with 1 Axes>"
      ]
     },
     "metadata": {},
     "output_type": "display_data"
    }
   ],
   "source": [
    "def plotFit(fit_theta,means,stds):\n",
    "    \"\"\"\n",
    "    Function that takes in some learned fit values (on feature-normalized data)\n",
    "    It sets x-points as a linspace, constructs an appropriate X matrix,\n",
    "    un-does previous feature normalization, computes the hypothesis values,\n",
    "    and plots on top of data\n",
    "    \"\"\"\n",
    "    n_points_to_plot = 50\n",
    "    xvals = np.linspace(-55,55,n_points_to_plot)\n",
    "    xmat = np.ones((n_points_to_plot,1))\n",
    "    \n",
    "    xmat = np.insert(xmat,xmat.shape[1],xvals.T,axis=1)\n",
    "    xmat = genPolyFeatures(xmat,len(fit_theta)-2)\n",
    "    #This is undoing feature normalization\n",
    "    xmat[:,1:] = xmat[:,1:] - means[1:]\n",
    "    xmat[:,1:] = xmat[:,1:] / stds[1:]\n",
    "    plotData()\n",
    "    plt.plot(xvals,h(fit_theta,xmat),'b--')\n",
    "\n",
    "plotFit(fit_theta,stored_means,stored_stds)"
   ]
  },
  {
   "cell_type": "code",
   "execution_count": 25,
   "metadata": {},
   "outputs": [
    {
     "ename": "NameError",
     "evalue": "name 'xrange' is not defined",
     "output_type": "error",
     "traceback": [
      "\u001b[1;31m---------------------------------------------------------------------------\u001b[0m",
      "\u001b[1;31mNameError\u001b[0m                                 Traceback (most recent call last)",
      "\u001b[1;32m<ipython-input-25-6ea84f7249d2>\u001b[0m in \u001b[0;36m<module>\u001b[1;34m()\u001b[0m\n\u001b[0;32m     25\u001b[0m     \u001b[0mplt\u001b[0m\u001b[1;33m.\u001b[0m\u001b[0mgrid\u001b[0m\u001b[1;33m(\u001b[0m\u001b[1;32mTrue\u001b[0m\u001b[1;33m)\u001b[0m\u001b[1;33m\u001b[0m\u001b[0m\n\u001b[0;32m     26\u001b[0m \u001b[1;33m\u001b[0m\u001b[0m\n\u001b[1;32m---> 27\u001b[1;33m \u001b[0mplotPolyLearningCurve\u001b[0m\u001b[1;33m(\u001b[0m\u001b[1;33m)\u001b[0m\u001b[1;33m\u001b[0m\u001b[0m\n\u001b[0m",
      "\u001b[1;32m<ipython-input-25-6ea84f7249d2>\u001b[0m in \u001b[0;36mplotPolyLearningCurve\u001b[1;34m(mylambda)\u001b[0m\n\u001b[0;32m      5\u001b[0m     \u001b[0mmyXval\u001b[0m\u001b[1;33m,\u001b[0m \u001b[0mdummy1\u001b[0m\u001b[1;33m,\u001b[0m \u001b[0mdummy2\u001b[0m \u001b[1;33m=\u001b[0m \u001b[0mfeatureNormalize\u001b[0m\u001b[1;33m(\u001b[0m\u001b[0mgenPolyFeatures\u001b[0m\u001b[1;33m(\u001b[0m\u001b[0mXval\u001b[0m\u001b[1;33m,\u001b[0m\u001b[0mglobal_d\u001b[0m\u001b[1;33m)\u001b[0m\u001b[1;33m)\u001b[0m\u001b[1;33m\u001b[0m\u001b[0m\n\u001b[0;32m      6\u001b[0m \u001b[1;33m\u001b[0m\u001b[0m\n\u001b[1;32m----> 7\u001b[1;33m     \u001b[1;32mfor\u001b[0m \u001b[0mx\u001b[0m \u001b[1;32min\u001b[0m \u001b[0mxrange\u001b[0m\u001b[1;33m(\u001b[0m\u001b[1;36m1\u001b[0m\u001b[1;33m,\u001b[0m\u001b[1;36m13\u001b[0m\u001b[1;33m,\u001b[0m\u001b[1;36m1\u001b[0m\u001b[1;33m)\u001b[0m\u001b[1;33m:\u001b[0m\u001b[1;33m\u001b[0m\u001b[0m\n\u001b[0m\u001b[0;32m      8\u001b[0m         \u001b[0mtrain_subset\u001b[0m \u001b[1;33m=\u001b[0m \u001b[0mX\u001b[0m\u001b[1;33m[\u001b[0m\u001b[1;33m:\u001b[0m\u001b[0mx\u001b[0m\u001b[1;33m,\u001b[0m\u001b[1;33m:\u001b[0m\u001b[1;33m]\u001b[0m\u001b[1;33m\u001b[0m\u001b[0m\n\u001b[0;32m      9\u001b[0m         \u001b[0my_subset\u001b[0m \u001b[1;33m=\u001b[0m \u001b[0my\u001b[0m\u001b[1;33m[\u001b[0m\u001b[1;33m:\u001b[0m\u001b[0mx\u001b[0m\u001b[1;33m]\u001b[0m\u001b[1;33m\u001b[0m\u001b[0m\n",
      "\u001b[1;31mNameError\u001b[0m: name 'xrange' is not defined"
     ]
    }
   ],
   "source": [
    "def plotPolyLearningCurve(mylambda=0.):\n",
    "\n",
    "    initial_theta = np.ones((global_d+2,1))\n",
    "    mym, error_train, error_val = [], [], []\n",
    "    myXval, dummy1, dummy2 = featureNormalize(genPolyFeatures(Xval,global_d))\n",
    "\n",
    "    for x in range(1,13,1):\n",
    "        train_subset = X[:x,:]\n",
    "        y_subset = y[:x]\n",
    "        mym.append(y_subset.shape[0])\n",
    "        train_subset = genPolyFeatures(train_subset,global_d)   \n",
    "        train_subset, dummy1, dummy2 = featureNormalize(train_subset)\n",
    "        fit_theta = optimizeTheta(initial_theta,train_subset,y_subset,mylambda=mylambda,print_output=False)\n",
    "        error_train.append(computeCost(fit_theta,train_subset,y_subset,mylambda=mylambda))\n",
    "        error_val.append(computeCost(fit_theta,myXval,yval,mylambda=mylambda))\n",
    "        \n",
    "    plt.figure(figsize=(8,5))\n",
    "    plt.plot(mym,error_train,label='Train')\n",
    "    plt.plot(mym,error_val,label='Cross Validation')\n",
    "    plt.legend()\n",
    "    plt.title('Polynomial Regression Learning Curve (lambda = 0)')\n",
    "    plt.xlabel('Number of training examples')\n",
    "    plt.ylabel('Error')\n",
    "    plt.ylim([0,100])\n",
    "    plt.grid(True)\n",
    "    \n",
    "plotPolyLearningCurve()"
   ]
  },
  {
   "cell_type": "code",
   "execution_count": null,
   "metadata": {},
   "outputs": [],
   "source": []
  }
 ],
 "metadata": {
  "kernelspec": {
   "display_name": "Python 3",
   "language": "python",
   "name": "python3"
  },
  "language_info": {
   "codemirror_mode": {
    "name": "ipython",
    "version": 3
   },
   "file_extension": ".py",
   "mimetype": "text/x-python",
   "name": "python",
   "nbconvert_exporter": "python",
   "pygments_lexer": "ipython3",
   "version": "3.6.5"
  }
 },
 "nbformat": 4,
 "nbformat_minor": 2
}
